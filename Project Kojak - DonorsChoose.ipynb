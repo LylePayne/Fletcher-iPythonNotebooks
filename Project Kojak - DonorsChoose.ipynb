{
 "metadata": {
  "name": "",
  "signature": "sha256:efa3956d412067182a6e52c9379999591d3195732e70c7d522b0bdd556a0a4b8"
 },
 "nbformat": 3,
 "nbformat_minor": 0,
 "worksheets": [
  {
   "cells": [
    {
     "cell_type": "code",
     "collapsed": false,
     "input": [
      "import pandas as pd\n",
      "import numpy as np\n",
      "import matplotlib.pyplot as plt\n",
      "from sklearn.cross_validation import train_test_split\n",
      "from sklearn.linear_model import LogisticRegression\n",
      "from statsmodels.formula.api import Logit\n",
      "from sklearn.neighbors import KNeighborsClassifier\n",
      "from sklearn.metrics import accuracy_score\n",
      "from sklearn.learning_curve import learning_curve\n",
      "from sklearn.naive_bayes import GaussianNB\n",
      "from sklearn.svm import SVC\n",
      "from sklearn.tree import DecisionTreeClassifier\n",
      "from sklearn.ensemble import RandomForestClassifier\n",
      "from sklearn.cross_validation import cross_val_score\n",
      "import pymysql\n",
      "import seaborn as sn"
     ],
     "language": "python",
     "metadata": {},
     "outputs": [],
     "prompt_number": 1
    },
    {
     "cell_type": "code",
     "collapsed": false,
     "input": [
      "db = pymysql.connect(host=\"104.236.210.7\",  #your cloud ip\n",
      "                     user='root',\n",
      "                     passwd='Colgate09*',\n",
      "                     db='donorschoose')\n",
      "\n",
      "cursor = db.cursor()\n",
      "cursor.execute('SELECT COUNT(*) FROM donorschoose_projects')\n",
      "for row in cursor:\n",
      "    print row"
     ],
     "language": "python",
     "metadata": {},
     "outputs": [
      {
       "output_type": "stream",
       "stream": "stdout",
       "text": [
        "(771929,)\n"
       ]
      }
     ],
     "prompt_number": 106
    },
    {
     "cell_type": "code",
     "collapsed": false,
     "input": [
      "cursor = db.cursor()\n",
      "\n",
      "projects_df = pd.read_sql('SELECT * FROM donorschoose_projects', db, index_col='_projectid')\n",
      "\n",
      "cursor.close()\n",
      "db.close()"
     ],
     "language": "python",
     "metadata": {},
     "outputs": [],
     "prompt_number": 107
    },
    {
     "cell_type": "code",
     "collapsed": false,
     "input": [
      "# projects_df.head()"
     ],
     "language": "python",
     "metadata": {},
     "outputs": [],
     "prompt_number": 109
    },
    {
     "cell_type": "markdown",
     "metadata": {},
     "source": [
      "###Replacing values with t & f so they are now 1 & 0 and are easier to use"
     ]
    },
    {
     "cell_type": "code",
     "collapsed": false,
     "input": [
      "projects_df.replace(to_replace = (\"t\", \"f\"), value = (1, 0), inplace = True)"
     ],
     "language": "python",
     "metadata": {},
     "outputs": [],
     "prompt_number": 110
    },
    {
     "cell_type": "code",
     "collapsed": false,
     "input": [
      "###Testing the find / replace on a smaller dataframe\n",
      "#sample_df = projects_df[:10000]\n",
      "#sample_df.head()\n",
      "#sample_df.replace(to_replace=(\"t\", \"f\"), value = (1, 0), inplace = True)\n",
      "#sample_df.describe()"
     ],
     "language": "python",
     "metadata": {},
     "outputs": [],
     "prompt_number": 32
    },
    {
     "cell_type": "code",
     "collapsed": false,
     "input": [
      "projects_df.describe()"
     ],
     "language": "python",
     "metadata": {},
     "outputs": [
      {
       "html": [
        "<div style=\"max-height:1000px;max-width:1500px;overflow:auto;\">\n",
        "<table border=\"1\" class=\"dataframe\">\n",
        "  <thead>\n",
        "    <tr style=\"text-align: right;\">\n",
        "      <th></th>\n",
        "      <th>school_latitude</th>\n",
        "      <th>school_longitude</th>\n",
        "      <th>school_magnet</th>\n",
        "      <th>school_year_round</th>\n",
        "      <th>school_nlns</th>\n",
        "      <th>school_kipp</th>\n",
        "      <th>school_charter_ready_promise</th>\n",
        "      <th>teacher_ny_teaching_fellow</th>\n",
        "      <th>vendor_shipping_charges</th>\n",
        "      <th>sales_tax</th>\n",
        "      <th>payment_processing_charges</th>\n",
        "      <th>fulfillment_labor_materials</th>\n",
        "      <th>total_price_excluding_optional_support</th>\n",
        "      <th>total_price_including_optional_support</th>\n",
        "      <th>students_reached</th>\n",
        "      <th>total_donations</th>\n",
        "      <th>num_donors</th>\n",
        "      <th>eligible_almost_home_match</th>\n",
        "    </tr>\n",
        "  </thead>\n",
        "  <tbody>\n",
        "    <tr>\n",
        "      <th>count</th>\n",
        "      <td> 771929.000000</td>\n",
        "      <td> 771929.000000</td>\n",
        "      <td> 771929.000000</td>\n",
        "      <td> 771929.000000</td>\n",
        "      <td> 771929.000000</td>\n",
        "      <td> 771929.000000</td>\n",
        "      <td> 771929.000000</td>\n",
        "      <td> 771929.000000</td>\n",
        "      <td> 771929.000000</td>\n",
        "      <td> 771929.000000</td>\n",
        "      <td> 771929.000000</td>\n",
        "      <td> 771929.000000</td>\n",
        "      <td>   771929.000000</td>\n",
        "      <td>   771929.000000</td>\n",
        "      <td> 771929.000000</td>\n",
        "      <td> 771929.000000</td>\n",
        "      <td> 771929.000000</td>\n",
        "      <td> 771929.000000</td>\n",
        "    </tr>\n",
        "    <tr>\n",
        "      <th>mean</th>\n",
        "      <td>     37.201949</td>\n",
        "      <td>    -93.582170</td>\n",
        "      <td>      0.091828</td>\n",
        "      <td>      0.036893</td>\n",
        "      <td>      0.013850</td>\n",
        "      <td>      0.006375</td>\n",
        "      <td>      0.004476</td>\n",
        "      <td>      0.015799</td>\n",
        "      <td>     17.351092</td>\n",
        "      <td>     16.776235</td>\n",
        "      <td>      7.427453</td>\n",
        "      <td>     26.595058</td>\n",
        "      <td>      569.595112</td>\n",
        "      <td>      676.175531</td>\n",
        "      <td>     96.726435</td>\n",
        "      <td>    370.832390</td>\n",
        "      <td>      4.286581</td>\n",
        "      <td>      0.049694</td>\n",
        "    </tr>\n",
        "    <tr>\n",
        "      <th>std</th>\n",
        "      <td>      4.756019</td>\n",
        "      <td>     17.820166</td>\n",
        "      <td>      0.288784</td>\n",
        "      <td>      0.188500</td>\n",
        "      <td>      0.116867</td>\n",
        "      <td>      0.079588</td>\n",
        "      <td>      0.066752</td>\n",
        "      <td>      0.124699</td>\n",
        "      <td>     62.436547</td>\n",
        "      <td>     48.719448</td>\n",
        "      <td>     17.176492</td>\n",
        "      <td>      9.777125</td>\n",
        "      <td>    11763.963306</td>\n",
        "      <td>    14344.356398</td>\n",
        "      <td>   2118.396794</td>\n",
        "      <td>    733.460752</td>\n",
        "      <td>      7.622970</td>\n",
        "      <td>      0.217311</td>\n",
        "    </tr>\n",
        "    <tr>\n",
        "      <th>min</th>\n",
        "      <td>     18.249140</td>\n",
        "      <td>   -176.634989</td>\n",
        "      <td>      0.000000</td>\n",
        "      <td>      0.000000</td>\n",
        "      <td>      0.000000</td>\n",
        "      <td>      0.000000</td>\n",
        "      <td>      0.000000</td>\n",
        "      <td>      0.000000</td>\n",
        "      <td>      0.000000</td>\n",
        "      <td>      0.000000</td>\n",
        "      <td>      0.000000</td>\n",
        "      <td>      0.000000</td>\n",
        "      <td>        0.000000</td>\n",
        "      <td>        0.000000</td>\n",
        "      <td>      0.000000</td>\n",
        "      <td>      0.000000</td>\n",
        "      <td>      0.000000</td>\n",
        "      <td>      0.000000</td>\n",
        "    </tr>\n",
        "    <tr>\n",
        "      <th>25%</th>\n",
        "      <td>     34.009605</td>\n",
        "      <td>   -112.047049</td>\n",
        "      <td>      0.000000</td>\n",
        "      <td>      0.000000</td>\n",
        "      <td>      0.000000</td>\n",
        "      <td>      0.000000</td>\n",
        "      <td>      0.000000</td>\n",
        "      <td>      0.000000</td>\n",
        "      <td>      0.000000</td>\n",
        "      <td>      0.000000</td>\n",
        "      <td>      3.290000</td>\n",
        "      <td>     17.000000</td>\n",
        "      <td>      272.580000</td>\n",
        "      <td>      323.650000</td>\n",
        "      <td>     22.000000</td>\n",
        "      <td>      0.000000</td>\n",
        "      <td>      1.000000</td>\n",
        "      <td>      0.000000</td>\n",
        "    </tr>\n",
        "    <tr>\n",
        "      <th>50%</th>\n",
        "      <td>     37.615095</td>\n",
        "      <td>    -87.702249</td>\n",
        "      <td>      0.000000</td>\n",
        "      <td>      0.000000</td>\n",
        "      <td>      0.000000</td>\n",
        "      <td>      0.000000</td>\n",
        "      <td>      0.000000</td>\n",
        "      <td>      0.000000</td>\n",
        "      <td>      9.950000</td>\n",
        "      <td>      0.000000</td>\n",
        "      <td>      5.480000</td>\n",
        "      <td>     30.000000</td>\n",
        "      <td>      418.020000</td>\n",
        "      <td>      496.000000</td>\n",
        "      <td>     30.000000</td>\n",
        "      <td>    281.490000</td>\n",
        "      <td>      2.000000</td>\n",
        "      <td>      0.000000</td>\n",
        "    </tr>\n",
        "    <tr>\n",
        "      <th>75%</th>\n",
        "      <td>     40.756004</td>\n",
        "      <td>    -79.751645</td>\n",
        "      <td>      0.000000</td>\n",
        "      <td>      0.000000</td>\n",
        "      <td>      0.000000</td>\n",
        "      <td>      0.000000</td>\n",
        "      <td>      0.000000</td>\n",
        "      <td>      0.000000</td>\n",
        "      <td>     24.780000</td>\n",
        "      <td>     23.970000</td>\n",
        "      <td>      8.700000</td>\n",
        "      <td>     35.000000</td>\n",
        "      <td>      619.000000</td>\n",
        "      <td>      733.530000</td>\n",
        "      <td>    100.000000</td>\n",
        "      <td>    516.320000</td>\n",
        "      <td>      5.000000</td>\n",
        "      <td>      0.000000</td>\n",
        "    </tr>\n",
        "    <tr>\n",
        "      <th>max</th>\n",
        "      <td>     71.290646</td>\n",
        "      <td>    -66.628036</td>\n",
        "      <td>      1.000000</td>\n",
        "      <td>      1.000000</td>\n",
        "      <td>      1.000000</td>\n",
        "      <td>      1.000000</td>\n",
        "      <td>      1.000000</td>\n",
        "      <td>      1.000000</td>\n",
        "      <td>  38861.760000</td>\n",
        "      <td>  13797.780000</td>\n",
        "      <td>   9715.440000</td>\n",
        "      <td>     35.480000</td>\n",
        "      <td> 10250017.000000</td>\n",
        "      <td> 12500020.730000</td>\n",
        "      <td> 999999.000000</td>\n",
        "      <td> 244778.000000</td>\n",
        "      <td>   1767.000000</td>\n",
        "      <td>      1.000000</td>\n",
        "    </tr>\n",
        "  </tbody>\n",
        "</table>\n",
        "</div>"
       ],
       "metadata": {},
       "output_type": "pyout",
       "prompt_number": 111,
       "text": [
        "       school_latitude  school_longitude  school_magnet  school_year_round  \\\n",
        "count    771929.000000     771929.000000  771929.000000      771929.000000   \n",
        "mean         37.201949        -93.582170       0.091828           0.036893   \n",
        "std           4.756019         17.820166       0.288784           0.188500   \n",
        "min          18.249140       -176.634989       0.000000           0.000000   \n",
        "25%          34.009605       -112.047049       0.000000           0.000000   \n",
        "50%          37.615095        -87.702249       0.000000           0.000000   \n",
        "75%          40.756004        -79.751645       0.000000           0.000000   \n",
        "max          71.290646        -66.628036       1.000000           1.000000   \n",
        "\n",
        "         school_nlns    school_kipp  school_charter_ready_promise  \\\n",
        "count  771929.000000  771929.000000                 771929.000000   \n",
        "mean        0.013850       0.006375                      0.004476   \n",
        "std         0.116867       0.079588                      0.066752   \n",
        "min         0.000000       0.000000                      0.000000   \n",
        "25%         0.000000       0.000000                      0.000000   \n",
        "50%         0.000000       0.000000                      0.000000   \n",
        "75%         0.000000       0.000000                      0.000000   \n",
        "max         1.000000       1.000000                      1.000000   \n",
        "\n",
        "       teacher_ny_teaching_fellow  vendor_shipping_charges      sales_tax  \\\n",
        "count               771929.000000            771929.000000  771929.000000   \n",
        "mean                     0.015799                17.351092      16.776235   \n",
        "std                      0.124699                62.436547      48.719448   \n",
        "min                      0.000000                 0.000000       0.000000   \n",
        "25%                      0.000000                 0.000000       0.000000   \n",
        "50%                      0.000000                 9.950000       0.000000   \n",
        "75%                      0.000000                24.780000      23.970000   \n",
        "max                      1.000000             38861.760000   13797.780000   \n",
        "\n",
        "       payment_processing_charges  fulfillment_labor_materials  \\\n",
        "count               771929.000000                771929.000000   \n",
        "mean                     7.427453                    26.595058   \n",
        "std                     17.176492                     9.777125   \n",
        "min                      0.000000                     0.000000   \n",
        "25%                      3.290000                    17.000000   \n",
        "50%                      5.480000                    30.000000   \n",
        "75%                      8.700000                    35.000000   \n",
        "max                   9715.440000                    35.480000   \n",
        "\n",
        "       total_price_excluding_optional_support  \\\n",
        "count                           771929.000000   \n",
        "mean                               569.595112   \n",
        "std                              11763.963306   \n",
        "min                                  0.000000   \n",
        "25%                                272.580000   \n",
        "50%                                418.020000   \n",
        "75%                                619.000000   \n",
        "max                           10250017.000000   \n",
        "\n",
        "       total_price_including_optional_support  students_reached  \\\n",
        "count                           771929.000000     771929.000000   \n",
        "mean                               676.175531         96.726435   \n",
        "std                              14344.356398       2118.396794   \n",
        "min                                  0.000000          0.000000   \n",
        "25%                                323.650000         22.000000   \n",
        "50%                                496.000000         30.000000   \n",
        "75%                                733.530000        100.000000   \n",
        "max                           12500020.730000     999999.000000   \n",
        "\n",
        "       total_donations     num_donors  eligible_almost_home_match  \n",
        "count    771929.000000  771929.000000               771929.000000  \n",
        "mean        370.832390       4.286581                    0.049694  \n",
        "std         733.460752       7.622970                    0.217311  \n",
        "min           0.000000       0.000000                    0.000000  \n",
        "25%           0.000000       1.000000                    0.000000  \n",
        "50%         281.490000       2.000000                    0.000000  \n",
        "75%         516.320000       5.000000                    0.000000  \n",
        "max      244778.000000    1767.000000                    1.000000  "
       ]
      }
     ],
     "prompt_number": 111
    },
    {
     "cell_type": "code",
     "collapsed": false,
     "input": [
      "import pprint as pp\n",
      "pp.pprint(projects_df.columns)"
     ],
     "language": "python",
     "metadata": {},
     "outputs": [
      {
       "output_type": "stream",
       "stream": "stdout",
       "text": [
        "Index([u'_teacher_acctid', u'_schoolid', u'school_ncesid', u'school_latitude', u'school_longitude', u'school_city', u'school_state', u'school_zip', u'school_metro', u'school_district', u'school_county', u'school_charter', u'school_magnet', u'school_year_round', u'school_nlns', u'school_kipp', u'school_charter_ready_promise', u'teacher_prefix', u'teacher_teach_for_america', u'teacher_ny_teaching_fellow', u'primary_focus_subject', u'primary_focus_area', u'secondary_focus_subject', u'secondary_focus_area', u'resource_type', u'poverty_level', u'grade_level', u'vendor_shipping_charges', u'sales_tax', u'payment_processing_charges', u'fulfillment_labor_materials', u'total_price_excluding_optional_support', u'total_price_including_optional_support', u'students_reached', u'total_donations', u'num_donors', u'eligible_double_your_impact_match', u'eligible_almost_home_match', u'funding_status', u'date_posted', u'date_completed', u'date_thank_you_packet_mailed', u'date_expiration'], dtype='object')\n"
       ]
      }
     ],
     "prompt_number": 40
    },
    {
     "cell_type": "code",
     "collapsed": false,
     "input": [
      "len(projects_df)"
     ],
     "language": "python",
     "metadata": {},
     "outputs": [
      {
       "metadata": {},
       "output_type": "pyout",
       "prompt_number": 115,
       "text": [
        "771929"
       ]
      }
     ],
     "prompt_number": 115
    },
    {
     "cell_type": "code",
     "collapsed": false,
     "input": [
      "data = projects_df[(projects_df.funding_status == \"completed\")]\n",
      "print len(data)"
     ],
     "language": "python",
     "metadata": {},
     "outputs": [
      {
       "output_type": "stream",
       "stream": "stdout",
       "text": [
        "514979\n"
       ]
      }
     ],
     "prompt_number": 59
    },
    {
     "cell_type": "code",
     "collapsed": false,
     "input": [
      "data = projects_df[(projects_df.funding_status != \"completed\")]\n",
      "print len(data)"
     ],
     "language": "python",
     "metadata": {},
     "outputs": [
      {
       "output_type": "stream",
       "stream": "stdout",
       "text": [
        "256950\n"
       ]
      }
     ],
     "prompt_number": 61
    },
    {
     "cell_type": "code",
     "collapsed": false,
     "input": [
      "data = projects_df[(projects_df.total_price_excluding_optional_support == 0)]\n",
      "print len(data)"
     ],
     "language": "python",
     "metadata": {},
     "outputs": [
      {
       "output_type": "stream",
       "stream": "stdout",
       "text": [
        "310\n"
       ]
      }
     ],
     "prompt_number": 112
    },
    {
     "cell_type": "markdown",
     "metadata": {},
     "source": [
      "####Created copy of dataframe with only projects that have a total price field, 310 out of over 770k projects were excluded"
     ]
    },
    {
     "cell_type": "code",
     "collapsed": false,
     "input": [
      "priced_projects = projects_df[(projects_df.total_price_excluding_optional_support != 0)]"
     ],
     "language": "python",
     "metadata": {},
     "outputs": [],
     "prompt_number": 113
    },
    {
     "cell_type": "code",
     "collapsed": false,
     "input": [
      "len(priced_projects)"
     ],
     "language": "python",
     "metadata": {},
     "outputs": [
      {
       "metadata": {},
       "output_type": "pyout",
       "prompt_number": 114,
       "text": [
        "771619"
       ]
      }
     ],
     "prompt_number": 114
    },
    {
     "cell_type": "markdown",
     "metadata": {},
     "source": [
      "####Creating a price per student column"
     ]
    },
    {
     "cell_type": "code",
     "collapsed": false,
     "input": [
      "print (projects_df.total_price_excluding_optional_support[10000]+.01)/ (projects_df.students_reached[10000] + .01)"
     ],
     "language": "python",
     "metadata": {},
     "outputs": [
      {
       "output_type": "stream",
       "stream": "stdout",
       "text": [
        "13.953355545\n"
       ]
      }
     ],
     "prompt_number": 117
    },
    {
     "cell_type": "code",
     "collapsed": false,
     "input": [
      "projects_df[\"price/student\"] = (projects_df[\"total_price_excluding_optional_support\"]+.001)/(projects_df[\"students_reached\"]+.001)"
     ],
     "language": "python",
     "metadata": {},
     "outputs": [],
     "prompt_number": 118
    },
    {
     "cell_type": "code",
     "collapsed": false,
     "input": [
      "projects_df.describe()"
     ],
     "language": "python",
     "metadata": {},
     "outputs": [
      {
       "html": [
        "<div style=\"max-height:1000px;max-width:1500px;overflow:auto;\">\n",
        "<table border=\"1\" class=\"dataframe\">\n",
        "  <thead>\n",
        "    <tr style=\"text-align: right;\">\n",
        "      <th></th>\n",
        "      <th>school_latitude</th>\n",
        "      <th>school_longitude</th>\n",
        "      <th>school_magnet</th>\n",
        "      <th>school_year_round</th>\n",
        "      <th>school_nlns</th>\n",
        "      <th>school_kipp</th>\n",
        "      <th>school_charter_ready_promise</th>\n",
        "      <th>teacher_ny_teaching_fellow</th>\n",
        "      <th>vendor_shipping_charges</th>\n",
        "      <th>sales_tax</th>\n",
        "      <th>payment_processing_charges</th>\n",
        "      <th>fulfillment_labor_materials</th>\n",
        "      <th>total_price_excluding_optional_support</th>\n",
        "      <th>total_price_including_optional_support</th>\n",
        "      <th>students_reached</th>\n",
        "      <th>total_donations</th>\n",
        "      <th>num_donors</th>\n",
        "      <th>eligible_almost_home_match</th>\n",
        "      <th>price/student</th>\n",
        "    </tr>\n",
        "  </thead>\n",
        "  <tbody>\n",
        "    <tr>\n",
        "      <th>count</th>\n",
        "      <td> 771929.000000</td>\n",
        "      <td> 771929.000000</td>\n",
        "      <td> 771929.000000</td>\n",
        "      <td> 771929.000000</td>\n",
        "      <td> 771929.000000</td>\n",
        "      <td> 771929.000000</td>\n",
        "      <td> 771929.000000</td>\n",
        "      <td> 771929.000000</td>\n",
        "      <td> 771929.000000</td>\n",
        "      <td> 771929.000000</td>\n",
        "      <td> 771929.000000</td>\n",
        "      <td> 771929.000000</td>\n",
        "      <td>   771929.000000</td>\n",
        "      <td>   771929.000000</td>\n",
        "      <td> 771929.000000</td>\n",
        "      <td> 771929.000000</td>\n",
        "      <td> 771929.000000</td>\n",
        "      <td> 771929.000000</td>\n",
        "      <td> 7.719290e+05</td>\n",
        "    </tr>\n",
        "    <tr>\n",
        "      <th>mean</th>\n",
        "      <td>     37.201949</td>\n",
        "      <td>    -93.582170</td>\n",
        "      <td>      0.091828</td>\n",
        "      <td>      0.036893</td>\n",
        "      <td>      0.013850</td>\n",
        "      <td>      0.006375</td>\n",
        "      <td>      0.004476</td>\n",
        "      <td>      0.015799</td>\n",
        "      <td>     17.351092</td>\n",
        "      <td>     16.776235</td>\n",
        "      <td>      7.427453</td>\n",
        "      <td>     26.595058</td>\n",
        "      <td>      569.595112</td>\n",
        "      <td>      676.175531</td>\n",
        "      <td>     96.726435</td>\n",
        "      <td>    370.832390</td>\n",
        "      <td>      4.286581</td>\n",
        "      <td>      0.049694</td>\n",
        "      <td> 3.092949e+03</td>\n",
        "    </tr>\n",
        "    <tr>\n",
        "      <th>std</th>\n",
        "      <td>      4.756019</td>\n",
        "      <td>     17.820166</td>\n",
        "      <td>      0.288784</td>\n",
        "      <td>      0.188500</td>\n",
        "      <td>      0.116867</td>\n",
        "      <td>      0.079588</td>\n",
        "      <td>      0.066752</td>\n",
        "      <td>      0.124699</td>\n",
        "      <td>     62.436547</td>\n",
        "      <td>     48.719448</td>\n",
        "      <td>     17.176492</td>\n",
        "      <td>      9.777125</td>\n",
        "      <td>    11763.963306</td>\n",
        "      <td>    14344.356398</td>\n",
        "      <td>   2118.396794</td>\n",
        "      <td>    733.460752</td>\n",
        "      <td>      7.622970</td>\n",
        "      <td>      0.217311</td>\n",
        "      <td> 1.139850e+06</td>\n",
        "    </tr>\n",
        "    <tr>\n",
        "      <th>min</th>\n",
        "      <td>     18.249140</td>\n",
        "      <td>   -176.634989</td>\n",
        "      <td>      0.000000</td>\n",
        "      <td>      0.000000</td>\n",
        "      <td>      0.000000</td>\n",
        "      <td>      0.000000</td>\n",
        "      <td>      0.000000</td>\n",
        "      <td>      0.000000</td>\n",
        "      <td>      0.000000</td>\n",
        "      <td>      0.000000</td>\n",
        "      <td>      0.000000</td>\n",
        "      <td>      0.000000</td>\n",
        "      <td>        0.000000</td>\n",
        "      <td>        0.000000</td>\n",
        "      <td>      0.000000</td>\n",
        "      <td>      0.000000</td>\n",
        "      <td>      0.000000</td>\n",
        "      <td>      0.000000</td>\n",
        "      <td> 4.999750e-05</td>\n",
        "    </tr>\n",
        "    <tr>\n",
        "      <th>25%</th>\n",
        "      <td>     34.009605</td>\n",
        "      <td>   -112.047049</td>\n",
        "      <td>      0.000000</td>\n",
        "      <td>      0.000000</td>\n",
        "      <td>      0.000000</td>\n",
        "      <td>      0.000000</td>\n",
        "      <td>      0.000000</td>\n",
        "      <td>      0.000000</td>\n",
        "      <td>      0.000000</td>\n",
        "      <td>      0.000000</td>\n",
        "      <td>      3.290000</td>\n",
        "      <td>     17.000000</td>\n",
        "      <td>      272.580000</td>\n",
        "      <td>      323.650000</td>\n",
        "      <td>     22.000000</td>\n",
        "      <td>      0.000000</td>\n",
        "      <td>      1.000000</td>\n",
        "      <td>      0.000000</td>\n",
        "      <td> 4.631606e+00</td>\n",
        "    </tr>\n",
        "    <tr>\n",
        "      <th>50%</th>\n",
        "      <td>     37.615095</td>\n",
        "      <td>    -87.702249</td>\n",
        "      <td>      0.000000</td>\n",
        "      <td>      0.000000</td>\n",
        "      <td>      0.000000</td>\n",
        "      <td>      0.000000</td>\n",
        "      <td>      0.000000</td>\n",
        "      <td>      0.000000</td>\n",
        "      <td>      9.950000</td>\n",
        "      <td>      0.000000</td>\n",
        "      <td>      5.480000</td>\n",
        "      <td>     30.000000</td>\n",
        "      <td>      418.020000</td>\n",
        "      <td>      496.000000</td>\n",
        "      <td>     30.000000</td>\n",
        "      <td>    281.490000</td>\n",
        "      <td>      2.000000</td>\n",
        "      <td>      0.000000</td>\n",
        "      <td> 1.040939e+01</td>\n",
        "    </tr>\n",
        "    <tr>\n",
        "      <th>75%</th>\n",
        "      <td>     40.756004</td>\n",
        "      <td>    -79.751645</td>\n",
        "      <td>      0.000000</td>\n",
        "      <td>      0.000000</td>\n",
        "      <td>      0.000000</td>\n",
        "      <td>      0.000000</td>\n",
        "      <td>      0.000000</td>\n",
        "      <td>      0.000000</td>\n",
        "      <td>     24.780000</td>\n",
        "      <td>     23.970000</td>\n",
        "      <td>      8.700000</td>\n",
        "      <td>     35.000000</td>\n",
        "      <td>      619.000000</td>\n",
        "      <td>      733.530000</td>\n",
        "      <td>    100.000000</td>\n",
        "      <td>    516.320000</td>\n",
        "      <td>      5.000000</td>\n",
        "      <td>      0.000000</td>\n",
        "      <td> 2.000253e+01</td>\n",
        "    </tr>\n",
        "    <tr>\n",
        "      <th>max</th>\n",
        "      <td>     71.290646</td>\n",
        "      <td>    -66.628036</td>\n",
        "      <td>      1.000000</td>\n",
        "      <td>      1.000000</td>\n",
        "      <td>      1.000000</td>\n",
        "      <td>      1.000000</td>\n",
        "      <td>      1.000000</td>\n",
        "      <td>      1.000000</td>\n",
        "      <td>  38861.760000</td>\n",
        "      <td>  13797.780000</td>\n",
        "      <td>   9715.440000</td>\n",
        "      <td>     35.480000</td>\n",
        "      <td> 10250017.000000</td>\n",
        "      <td> 12500020.730000</td>\n",
        "      <td> 999999.000000</td>\n",
        "      <td> 244778.000000</td>\n",
        "      <td>   1767.000000</td>\n",
        "      <td>      1.000000</td>\n",
        "      <td> 1.000000e+09</td>\n",
        "    </tr>\n",
        "  </tbody>\n",
        "</table>\n",
        "</div>"
       ],
       "metadata": {},
       "output_type": "pyout",
       "prompt_number": 119,
       "text": [
        "       school_latitude  school_longitude  school_magnet  school_year_round  \\\n",
        "count    771929.000000     771929.000000  771929.000000      771929.000000   \n",
        "mean         37.201949        -93.582170       0.091828           0.036893   \n",
        "std           4.756019         17.820166       0.288784           0.188500   \n",
        "min          18.249140       -176.634989       0.000000           0.000000   \n",
        "25%          34.009605       -112.047049       0.000000           0.000000   \n",
        "50%          37.615095        -87.702249       0.000000           0.000000   \n",
        "75%          40.756004        -79.751645       0.000000           0.000000   \n",
        "max          71.290646        -66.628036       1.000000           1.000000   \n",
        "\n",
        "         school_nlns    school_kipp  school_charter_ready_promise  \\\n",
        "count  771929.000000  771929.000000                 771929.000000   \n",
        "mean        0.013850       0.006375                      0.004476   \n",
        "std         0.116867       0.079588                      0.066752   \n",
        "min         0.000000       0.000000                      0.000000   \n",
        "25%         0.000000       0.000000                      0.000000   \n",
        "50%         0.000000       0.000000                      0.000000   \n",
        "75%         0.000000       0.000000                      0.000000   \n",
        "max         1.000000       1.000000                      1.000000   \n",
        "\n",
        "       teacher_ny_teaching_fellow  vendor_shipping_charges      sales_tax  \\\n",
        "count               771929.000000            771929.000000  771929.000000   \n",
        "mean                     0.015799                17.351092      16.776235   \n",
        "std                      0.124699                62.436547      48.719448   \n",
        "min                      0.000000                 0.000000       0.000000   \n",
        "25%                      0.000000                 0.000000       0.000000   \n",
        "50%                      0.000000                 9.950000       0.000000   \n",
        "75%                      0.000000                24.780000      23.970000   \n",
        "max                      1.000000             38861.760000   13797.780000   \n",
        "\n",
        "       payment_processing_charges  fulfillment_labor_materials  \\\n",
        "count               771929.000000                771929.000000   \n",
        "mean                     7.427453                    26.595058   \n",
        "std                     17.176492                     9.777125   \n",
        "min                      0.000000                     0.000000   \n",
        "25%                      3.290000                    17.000000   \n",
        "50%                      5.480000                    30.000000   \n",
        "75%                      8.700000                    35.000000   \n",
        "max                   9715.440000                    35.480000   \n",
        "\n",
        "       total_price_excluding_optional_support  \\\n",
        "count                           771929.000000   \n",
        "mean                               569.595112   \n",
        "std                              11763.963306   \n",
        "min                                  0.000000   \n",
        "25%                                272.580000   \n",
        "50%                                418.020000   \n",
        "75%                                619.000000   \n",
        "max                           10250017.000000   \n",
        "\n",
        "       total_price_including_optional_support  students_reached  \\\n",
        "count                           771929.000000     771929.000000   \n",
        "mean                               676.175531         96.726435   \n",
        "std                              14344.356398       2118.396794   \n",
        "min                                  0.000000          0.000000   \n",
        "25%                                323.650000         22.000000   \n",
        "50%                                496.000000         30.000000   \n",
        "75%                                733.530000        100.000000   \n",
        "max                           12500020.730000     999999.000000   \n",
        "\n",
        "       total_donations     num_donors  eligible_almost_home_match  \\\n",
        "count    771929.000000  771929.000000               771929.000000   \n",
        "mean        370.832390       4.286581                    0.049694   \n",
        "std         733.460752       7.622970                    0.217311   \n",
        "min           0.000000       0.000000                    0.000000   \n",
        "25%           0.000000       1.000000                    0.000000   \n",
        "50%         281.490000       2.000000                    0.000000   \n",
        "75%         516.320000       5.000000                    0.000000   \n",
        "max      244778.000000    1767.000000                    1.000000   \n",
        "\n",
        "       price/student  \n",
        "count   7.719290e+05  \n",
        "mean    3.092949e+03  \n",
        "std     1.139850e+06  \n",
        "min     4.999750e-05  \n",
        "25%     4.631606e+00  \n",
        "50%     1.040939e+01  \n",
        "75%     2.000253e+01  \n",
        "max     1.000000e+09  "
       ]
      }
     ],
     "prompt_number": 119
    },
    {
     "cell_type": "markdown",
     "metadata": {},
     "source": [
      "####Creating a month posted column"
     ]
    },
    {
     "cell_type": "code",
     "collapsed": false,
     "input": [
      "projects_df[\"date_posted\"] = pd.to_datetime(projects_df[\"date_posted\"])"
     ],
     "language": "python",
     "metadata": {},
     "outputs": [],
     "prompt_number": 120
    },
    {
     "cell_type": "code",
     "collapsed": false,
     "input": [
      "projects_df['month_posted']=projects_df['date_posted'].apply(lambda x: x.month)"
     ],
     "language": "python",
     "metadata": {},
     "outputs": [],
     "prompt_number": 121
    },
    {
     "cell_type": "code",
     "collapsed": false,
     "input": [
      "len(projects_df)"
     ],
     "language": "python",
     "metadata": {},
     "outputs": [
      {
       "metadata": {},
       "output_type": "pyout",
       "prompt_number": 122,
       "text": [
        "771929"
       ]
      }
     ],
     "prompt_number": 122
    },
    {
     "cell_type": "code",
     "collapsed": false,
     "input": [
      "# projects_clean = projects_df.dropna()\n",
      "# len(projects_clean)"
     ],
     "language": "python",
     "metadata": {},
     "outputs": [],
     "prompt_number": 124
    },
    {
     "cell_type": "markdown",
     "metadata": {},
     "source": [
      "###Exploratory Analysis of dataset"
     ]
    },
    {
     "cell_type": "code",
     "collapsed": false,
     "input": [],
     "language": "python",
     "metadata": {},
     "outputs": []
    },
    {
     "cell_type": "code",
     "collapsed": false,
     "input": [
      "%matplotlib inline\n",
      "sn.barplot(projects_df.month_posted)"
     ],
     "language": "python",
     "metadata": {},
     "outputs": [
      {
       "metadata": {},
       "output_type": "pyout",
       "prompt_number": 83,
       "text": [
        "<matplotlib.axes._subplots.AxesSubplot at 0x229d4e390>"
       ]
      },
      {
       "metadata": {},
       "output_type": "display_data",
       "png": "[encoded data removed]",
       "text": [
        "<matplotlib.figure.Figure at 0x229fb6d10>"
       ]
      }
     ],
     "prompt_number": 83
    },
    {
     "cell_type": "code",
     "collapsed": false,
     "input": [
      "sn.barplot(projects_df.num_donors)"
     ],
     "language": "python",
     "metadata": {},
     "outputs": [
      {
       "metadata": {},
       "output_type": "pyout",
       "prompt_number": 92,
       "text": [
        "<matplotlib.axes._subplots.AxesSubplot at 0x218f81ed0>"
       ]
      },
      {
       "metadata": {},
       "output_type": "display_data",
       "png": "[encoded data removed]",
       "text": [
        "<matplotlib.figure.Figure at 0x217007a10>"
       ]
      }
     ],
     "prompt_number": 92
    },
    {
     "cell_type": "code",
     "collapsed": false,
     "input": [
      "sn.barplot(projects_df.grade_level)"
     ],
     "language": "python",
     "metadata": {},
     "outputs": [
      {
       "metadata": {},
       "output_type": "pyout",
       "prompt_number": 125,
       "text": [
        "<matplotlib.axes._subplots.AxesSubplot at 0x1325b39d0>"
       ]
      },
      {
       "metadata": {},
       "output_type": "display_data",
       "png": "[encoded data removed]",
       "text": [
        "<matplotlib.figure.Figure at 0x1dbc05490>"
       ]
      }
     ],
     "prompt_number": 125
    }
   ],
   "metadata": {}
  }
 ]
}